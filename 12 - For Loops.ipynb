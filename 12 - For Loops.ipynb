{
 "cells": [
  {
   "cell_type": "markdown",
   "metadata": {},
   "source": [
    "# Loops\n",
    "\n",
    "#### Questions\n",
    "\n",
    "* How can I make a program do many things?\n",
    "\n",
    "#### Objectives\n",
    "\n",
    "* Explain what for loops are normally used for.\n",
    "\n",
    "* Trace the execution of a simple (unnested) loop and correctly state the values of variables in each iteration.\n",
    "\n",
    "* Write for loops that use the Accumulator pattern to aggregate values.\n",
    "\n",
    "### A _for loop_ executes commands once for each value in a collection\n",
    "   \n",
    "* Doing calculations on the values in a list one by one is as painful as working with `pressure_001`, `pressure_002`, etc.\n",
    "* A _for loop_ tells Python to execute some statements once for each value in a list, a character string, or some other collection.\n",
    "* “for each thing in this group, do these operations”"
   ]
  },
  {
   "cell_type": "code",
   "execution_count": null,
   "metadata": {},
   "outputs": [],
   "source": []
  },
  {
   "cell_type": "markdown",
   "metadata": {},
   "source": [
    "### The first line of the `for` loop must end with a colon, and the body must be indented.\n",
    "\n",
    "* The colon at the end of the first line signals the start of a block of statements.\n",
    "* Python uses indentation rather than `{}` or `begin`/`end` to show nesting.\n",
    "    * Any consistent indentation is legal, but almost everyone uses **four** spaces."
   ]
  },
  {
   "cell_type": "code",
   "execution_count": null,
   "metadata": {},
   "outputs": [],
   "source": []
  },
  {
   "cell_type": "markdown",
   "metadata": {},
   "source": [
    "### A `for` loop is made up of a collection, a loop variable, and a body.\n"
   ]
  },
  {
   "cell_type": "code",
   "execution_count": null,
   "metadata": {},
   "outputs": [],
   "source": []
  },
  {
   "cell_type": "markdown",
   "metadata": {},
   "source": [
    "### Loop variables can be called anything.\n",
    "\n",
    "* As with all variables, loop variables are:\n",
    "    * Created on demand.\n",
    "    * Meaningless: their names can be anything at all."
   ]
  },
  {
   "cell_type": "code",
   "execution_count": null,
   "metadata": {},
   "outputs": [],
   "source": []
  },
  {
   "cell_type": "markdown",
   "metadata": {},
   "source": [
    "### The body of a loop can contain many statements.\n",
    "* But no loop should be more than a few lines long.\n",
    "* Hard for human beings to keep larger chunks of code in mind."
   ]
  },
  {
   "cell_type": "code",
   "execution_count": null,
   "metadata": {},
   "outputs": [],
   "source": []
  },
  {
   "cell_type": "markdown",
   "metadata": {},
   "source": [
    "### Use `range` to iterate over a sequence of numbers.\n",
    "* The built-in function `range` produces a sequence of numbers.\n",
    "    * __Not__ a list: the numbers are produced on demand to make looping over large ranges more efficient.\n",
    "* `range(N)` is the numbers 0..N-1\n",
    "    * Exactly the legal indices of a list or character string of length N"
   ]
  },
  {
   "cell_type": "code",
   "execution_count": null,
   "metadata": {},
   "outputs": [],
   "source": []
  },
  {
   "cell_type": "markdown",
   "metadata": {},
   "source": [
    "### The Accumulator pattern turns many values into one.\n",
    "* A common pattern in programs is to:\n",
    "    1. Initialize an _accumulator_ variable to zero, the empty string, or the empty list.\n",
    "    2. Update the variable with values from a collection.\n",
    "\n",
    "\n"
   ]
  },
  {
   "cell_type": "code",
   "execution_count": null,
   "metadata": {},
   "outputs": [],
   "source": []
  },
  {
   "cell_type": "markdown",
   "metadata": {},
   "source": [
    "### Loop through *iterables*\n",
    "\n",
    "* You can loop through many things, not just `range`\n",
    "* E.g. Loop through values in list\n",
    "    * You don't need to worry about the index\n",
    "* Use `enumerate` if you need a counter"
   ]
  },
  {
   "cell_type": "code",
   "execution_count": 3,
   "metadata": {},
   "outputs": [],
   "source": [
    "a = ['a string', 4, 5.0, ['a list', 'with a string']]"
   ]
  },
  {
   "cell_type": "markdown",
   "metadata": {},
   "source": [
    "### Exercises\n",
    "Exercises are found at https://swcarpentry.github.io/python-novice-gapminder/12-for-loops/index.html"
   ]
  },
  {
   "cell_type": "code",
   "execution_count": null,
   "metadata": {},
   "outputs": [],
   "source": []
  },
  {
   "cell_type": "code",
   "execution_count": null,
   "metadata": {},
   "outputs": [],
   "source": []
  },
  {
   "cell_type": "code",
   "execution_count": null,
   "metadata": {},
   "outputs": [],
   "source": []
  },
  {
   "cell_type": "markdown",
   "metadata": {},
   "source": [
    "## Key points\n",
    "\n",
    "* A *for loop* executes commands once for each value in a collection.\n",
    "\n",
    "* The first line of the `for` loop must end with a colon, and the body must be indented.\n",
    "\n",
    "* Indentation is always meaningful in Python.\n",
    "\n",
    "* A `for` loop is made up of a collection, a loop variable, and a body.\n",
    "\n",
    "* Loop variables can be called anything (but it is strongly advised to have a meaningful name to the looping variable).\n",
    "\n",
    "* The body of a loop can contain many statements.\n",
    "\n",
    "* Use `range` to iterate over a sequence of numbers.\n",
    "\n",
    "* The Accumulator pattern turns many values into one."
   ]
  }
 ],
 "metadata": {
  "kernelspec": {
   "display_name": "Python 3",
   "language": "python",
   "name": "python3"
  },
  "language_info": {
   "codemirror_mode": {
    "name": "ipython",
    "version": 3
   },
   "file_extension": ".py",
   "mimetype": "text/x-python",
   "name": "python",
   "nbconvert_exporter": "python",
   "pygments_lexer": "ipython3",
   "version": "3.7.0"
  }
 },
 "nbformat": 4,
 "nbformat_minor": 2
}
