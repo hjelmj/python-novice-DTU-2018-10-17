{
 "cells": [
  {
   "cell_type": "markdown",
   "metadata": {},
   "source": [
    "## 02 - Variables and Assignment\n",
    "\n",
    "*Teaching:* 10 min, *Exercises*: 10 min\n",
    "\n",
    "**Questions**\n",
    "\n",
    "* How can I store data in programs?  \n",
    "\n",
    "\n",
    "**Objectives**\n",
    "\n",
    "* Write programs that assign scalar values to variables and perform calculations with those values.\n",
    "\n",
    "* Correctly trace value changes in programs that use scalar assignment."
   ]
  },
  {
   "cell_type": "markdown",
   "metadata": {},
   "source": [
    "### Use variables to store values.\n",
    "* Variables are names for values.\n",
    "* In Python the `=` symbol assigns the value on the right to the name on the left.\n",
    "* The variable is created when a value is assigned to it.\n",
    "* Here, Python assigns an age to a variable `age` and a name in quotes to a variable `first_name`."
   ]
  },
  {
   "cell_type": "code",
   "execution_count": null,
   "metadata": {},
   "outputs": [],
   "source": []
  },
  {
   "cell_type": "markdown",
   "metadata": {},
   "source": [
    "* Variable names\n",
    "    * can only contain letters, digits, and underscore _ (typically used to separate words in long variable names)\n",
    "    * cannot start with a digit\n",
    "    * Variable names that start with underscores like `__alistairs_real_age` have a special meaning so we won’t do that until we understand the convention."
   ]
  },
  {
   "cell_type": "markdown",
   "metadata": {},
   "source": [
    "### Use `print` to display values.\n",
    "\n",
    "* Python has a built-in function called print that prints things as text.\n",
    "* Call the function (i.e., tell Python to run it) by using its name.\n",
    "* Provide values to the function (i.e., the things to print) in parentheses.\n",
    "* To add a string to the printout, wrap the string in single or double quotes.\n",
    "* The values passed to the function are called ‘arguments’"
   ]
  },
  {
   "cell_type": "code",
   "execution_count": null,
   "metadata": {},
   "outputs": [],
   "source": []
  },
  {
   "cell_type": "markdown",
   "metadata": {},
   "source": [
    "* `print` automatically puts a single space between items to separate them.\n",
    "* ...and wraps around to a new line at the end."
   ]
  },
  {
   "cell_type": "markdown",
   "metadata": {},
   "source": [
    "### Variables must be created before they are used.\n",
    "\n",
    "* If a variable doesn’t exist yet, or if the name has been mis-spelled, Python reports an error.\n",
    "    * Unlike some languages, which “guess” a default value."
   ]
  },
  {
   "cell_type": "code",
   "execution_count": null,
   "metadata": {},
   "outputs": [],
   "source": []
  },
  {
   "cell_type": "markdown",
   "metadata": {},
   "source": [
    "* The last line of an error message is usually the most informative.\n",
    "* We will look at error messages in detail later."
   ]
  },
  {
   "cell_type": "markdown",
   "metadata": {},
   "source": [
    "## ! Variables Persist Between Cells ! -> Danger with Out-of-order execution\n",
    "\n",
    "* Be aware that it is the order of execution of cells that is important in a Jupyter notebook, not the order in which they appear. \n",
    "* Python will remember all the code that was run previously, including any variables you have defined, irrespective of the order in the notebook."
   ]
  },
  {
   "cell_type": "code",
   "execution_count": 3,
   "metadata": {},
   "outputs": [],
   "source": [
    "# example - print(myval)"
   ]
  },
  {
   "cell_type": "code",
   "execution_count": null,
   "metadata": {},
   "outputs": [],
   "source": []
  },
  {
   "cell_type": "markdown",
   "metadata": {},
   "source": [
    "* To prevent confusion, it can be helpful to use the `Kernel` -> `Restart & Run All` option which clears the interpreter and runs everything from a clean slate going from top to bottom."
   ]
  },
  {
   "cell_type": "markdown",
   "metadata": {},
   "source": [
    "### Variables can be used in calculations.\n",
    "\n",
    "* We can use variables in calculations just as if they were values.\n",
    "    * Remember, we assigned 44 to age a few lines ago"
   ]
  },
  {
   "cell_type": "code",
   "execution_count": 4,
   "metadata": {},
   "outputs": [],
   "source": [
    "# age in three years from now (!!)"
   ]
  },
  {
   "cell_type": "markdown",
   "metadata": {},
   "source": [
    "### Use an index to get a single character from a string.\n",
    "\n",
    "* The characters (individual letters, numbers, and so on) in a string are ordered. For example, the string ‘AB’ is not the same as ‘BA’. Because of this ordering, we can treat the string as a list of characters.\n",
    "* Each position in the string (first, second, etc.) is given a number. This number is called an index or sometimes a subscript.\n",
    "* Indices are numbered from 0.\n",
    "* Use the position’s index in square brackets to get the character at that position."
   ]
  },
  {
   "cell_type": "code",
   "execution_count": null,
   "metadata": {},
   "outputs": [],
   "source": []
  },
  {
   "cell_type": "markdown",
   "metadata": {},
   "source": [
    "### Use a slice to get a substring.\n",
    "\n",
    "* A part of a string is called a *substring*. A substring can be as short as a single character.\n",
    "\n",
    "\n",
    "* An item in a list is called an *element*. Whenever we treat a string as if it were a list, the string’s elements are its individual characters.\n",
    "\n",
    "\n",
    "* A *slice* is a part of a string (or, more generally, any list-like thing -> *e.g.* an array).\n",
    "\n",
    "\n",
    "* We take a slice by using `[start:stop]`, where `start` is replaced with the index of the first element we want and stop is replaced with the index of the element just after the last element we want.\n",
    "\n",
    "\n",
    "* Mathematically, you might say that a slice selects `[start:stop)`.\n",
    "\n",
    "\n",
    "* The difference between stop and start is the slice’s length.\n",
    "\n",
    "\n",
    "* Taking a slice does not change the contents of the original string. Instead, the slice is a copy of part of the original string."
   ]
  },
  {
   "cell_type": "code",
   "execution_count": 5,
   "metadata": {},
   "outputs": [],
   "source": [
    "# atom_name"
   ]
  },
  {
   "cell_type": "markdown",
   "metadata": {},
   "source": [
    "### Use the built-in function len to find the length of a string."
   ]
  },
  {
   "cell_type": "code",
   "execution_count": null,
   "metadata": {},
   "outputs": [],
   "source": []
  },
  {
   "cell_type": "markdown",
   "metadata": {},
   "source": [
    "* Nested functions are evaluated from the inside out, just like in mathematics."
   ]
  },
  {
   "cell_type": "markdown",
   "metadata": {},
   "source": [
    "### Python is case-sensitive.\n",
    "* Python thinks that upper- and lower-case letters are different, so `Name` and `name` are different variables.\n",
    "\n",
    "\n",
    "* There are conventions for using upper-case letters at the start of variable names so we will use lower-case letters for now."
   ]
  },
  {
   "cell_type": "markdown",
   "metadata": {},
   "source": [
    "### Use meaningful variable names.\n",
    "\n",
    "* Python doesn’t care what you call variables as long as they obey the rules (alphanumeric characters and the underscore)."
   ]
  },
  {
   "cell_type": "code",
   "execution_count": null,
   "metadata": {},
   "outputs": [],
   "source": []
  },
  {
   "cell_type": "markdown",
   "metadata": {},
   "source": [
    "* Use meaningful variable names to help other people understand what the program does.\n",
    "\n",
    "\n",
    "* The most important “other person” is your future self."
   ]
  },
  {
   "cell_type": "markdown",
   "metadata": {},
   "source": [
    "## Exercises\n",
    "\n",
    "you find the exercises at the bottom of this page: https://swcarpentry.github.io/python-novice-gapminder/02-variables/index.html"
   ]
  },
  {
   "cell_type": "code",
   "execution_count": null,
   "metadata": {},
   "outputs": [],
   "source": []
  },
  {
   "cell_type": "code",
   "execution_count": null,
   "metadata": {},
   "outputs": [],
   "source": []
  },
  {
   "cell_type": "code",
   "execution_count": null,
   "metadata": {},
   "outputs": [],
   "source": []
  },
  {
   "cell_type": "markdown",
   "metadata": {},
   "source": [
    "## Key Points\n",
    "\n",
    "* Use variables to store values.\n",
    "\n",
    "\n",
    "* Use print to display values.\n",
    "\n",
    "\n",
    "* Variables persist between cells.\n",
    "\n",
    "\n",
    "* Variables must be created before they are used.\n",
    "\n",
    "\n",
    "* Variables can be used in calculations.\n",
    "\n",
    "\n",
    "* Use an index to get a single character from a string.\n",
    "\n",
    "\n",
    "* Use a slice to get a substring.\n",
    "\n",
    "\n",
    "* Use the built-in function len to find the length of a string.\n",
    "\n",
    "\n",
    "* Python is case-sensitive.\n",
    "\n",
    "\n",
    "* Use meaningful variable names."
   ]
  },
  {
   "cell_type": "code",
   "execution_count": null,
   "metadata": {},
   "outputs": [],
   "source": []
  }
 ],
 "metadata": {
  "kernelspec": {
   "display_name": "Python 3",
   "language": "python",
   "name": "python3"
  },
  "language_info": {
   "codemirror_mode": {
    "name": "ipython",
    "version": 3
   },
   "file_extension": ".py",
   "mimetype": "text/x-python",
   "name": "python",
   "nbconvert_exporter": "python",
   "pygments_lexer": "ipython3",
   "version": "3.6.5"
  },
  "toc": {
   "base_numbering": 1,
   "nav_menu": {},
   "number_sections": false,
   "sideBar": false,
   "skip_h1_title": false,
   "title_cell": "Table of Contents",
   "title_sidebar": "Contents",
   "toc_cell": false,
   "toc_position": {},
   "toc_section_display": false,
   "toc_window_display": false
  }
 },
 "nbformat": 4,
 "nbformat_minor": 2
}
