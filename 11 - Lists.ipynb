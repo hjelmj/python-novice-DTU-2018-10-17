{
 "cells": [
  {
   "cell_type": "markdown",
   "metadata": {},
   "source": [
    "# Lists\n",
    "\n",
    "#### Questions\n",
    "\n",
    "* How can I store multiple values?\n",
    "\n",
    "#### Objectives\n",
    "\n",
    "* Explain why programs need collections of values.\n",
    "* Write programs that create flat lists, index them, slice them, and modify them through assignment and method calls."
   ]
  },
  {
   "cell_type": "markdown",
   "metadata": {},
   "source": [
    "###  A list stores many values in a single structure.\n",
    "* Doing calculations with a hundred variables called `pressure_001`, `pressure_002`, etc., would be at least as slow as doing them by hand.\n",
    "* Use a _list_ to store many values together.\n",
    "    * Contains within square brackets `[...]`.\n",
    "    * Values separated by commas, `,`.\n",
    "* Use `len` to find out how many values are in a list"
   ]
  },
  {
   "cell_type": "code",
   "execution_count": 1,
   "metadata": {},
   "outputs": [],
   "source": [
    "pressures = [0.273, 0.275, 0.277, 0.275, 0.276]"
   ]
  },
  {
   "cell_type": "markdown",
   "metadata": {},
   "source": [
    "### Use an item’s index to fetch it from a list.\n",
    "* Indexing works like strings\n",
    "    * Indexing starts at 0"
   ]
  },
  {
   "cell_type": "code",
   "execution_count": null,
   "metadata": {},
   "outputs": [],
   "source": []
  },
  {
   "cell_type": "markdown",
   "metadata": {},
   "source": [
    "### Lists’ values can be replaced by assigning to them.\n",
    "* Use an index expression on the left of assignment to replace a value."
   ]
  },
  {
   "cell_type": "code",
   "execution_count": null,
   "metadata": {},
   "outputs": [],
   "source": []
  },
  {
   "cell_type": "markdown",
   "metadata": {},
   "source": [
    "### Appending items to a list lengthens it.\n",
    "* You can add items by using the `append` method\n",
    "    * Syntax: `list_name.append`\n",
    "    * More than 1 type of container than lists, but this is one of the most convenient\n",
    "* You can combine lists using `extend`\n"
   ]
  },
  {
   "cell_type": "code",
   "execution_count": null,
   "metadata": {},
   "outputs": [],
   "source": [
    "primes = [2, 3, 5]"
   ]
  },
  {
   "cell_type": "markdown",
   "metadata": {},
   "source": [
    "### Remove items using `del`\n",
    "* `del list_name[index]` removes an item from a list and shortens the list.\n",
    "* Not a function or a method, but a statement in the language."
   ]
  },
  {
   "cell_type": "code",
   "execution_count": null,
   "metadata": {},
   "outputs": [],
   "source": []
  },
  {
   "cell_type": "markdown",
   "metadata": {},
   "source": [
    "### The empty list contains no values.\n",
    "* Use `[]` on its own to represent a list that doesn’t contain any values.\n",
    "    * \"The zero of lists\"\n",
    "* Often helpful for starting a list, usually followed by calls to `append`\n",
    "    * We will see examples of this later"
   ]
  },
  {
   "cell_type": "code",
   "execution_count": null,
   "metadata": {},
   "outputs": [],
   "source": []
  },
  {
   "cell_type": "markdown",
   "metadata": {},
   "source": [
    "### Lists may contain values of different types.\n",
    "* A single list may contain numbers, strings, and anything else."
   ]
  },
  {
   "cell_type": "code",
   "execution_count": null,
   "metadata": {},
   "outputs": [],
   "source": []
  },
  {
   "cell_type": "markdown",
   "metadata": {},
   "source": [
    "### Character strings can be indexed like lists.\n",
    "* Get single characters from a character string using indexes in square brackets."
   ]
  },
  {
   "cell_type": "code",
   "execution_count": null,
   "metadata": {},
   "outputs": [],
   "source": []
  },
  {
   "cell_type": "markdown",
   "metadata": {},
   "source": [
    "### Character strings are immutable.\n",
    "* Cannot change the characters in a string after it has been created.\n",
    "    * _Immutable_: can’t be changed after creation.\n",
    "    * In contrast, lists are _mutable_: they can be modified in place.\n",
    "* Python considers the string to be a single value with parts, not a collection of values.\n",
    "* Lists and character strings are both _collections_."
   ]
  },
  {
   "cell_type": "code",
   "execution_count": null,
   "metadata": {},
   "outputs": [],
   "source": []
  },
  {
   "cell_type": "markdown",
   "metadata": {},
   "source": [
    "### Indexing beyond the end of the collection is an error.\n",
    "* Python reports an `IndexError` if we attempt to access a value that doesn’t exist.\n",
    "* This is a kind of runtime error.\n",
    "* Cannot be detected as the code is parsed because the index might be calculated based on data."
   ]
  },
  {
   "cell_type": "code",
   "execution_count": null,
   "metadata": {},
   "outputs": [],
   "source": []
  },
  {
   "cell_type": "markdown",
   "metadata": {},
   "source": [
    "### Exercises\n",
    "Exercises can be found at https://swcarpentry.github.io/python-novice-gapminder/11-lists/index.html"
   ]
  },
  {
   "cell_type": "code",
   "execution_count": null,
   "metadata": {},
   "outputs": [],
   "source": []
  },
  {
   "cell_type": "code",
   "execution_count": null,
   "metadata": {},
   "outputs": [],
   "source": []
  },
  {
   "cell_type": "code",
   "execution_count": null,
   "metadata": {},
   "outputs": [],
   "source": []
  },
  {
   "cell_type": "code",
   "execution_count": null,
   "metadata": {},
   "outputs": [],
   "source": []
  },
  {
   "cell_type": "markdown",
   "metadata": {},
   "source": [
    "### Key points\n",
    "* A list stores many values in a single structure.\n",
    "* Use an item’s index to fetch it from a list.\n",
    "* Lists’ values can be replaced by assigning to them.\n",
    "\n",
    "* Appending items to a list lengthens it.\n",
    "\n",
    "* Use `del` to remove items from a list entirely.\n",
    "\n",
    "* The empty list contains no values.\n",
    "\n",
    "* Lists may contain values of different types.\n",
    "\n",
    "* Character strings can be indexed like lists.\n",
    "\n",
    "* Character strings are immutable.\n",
    "\n",
    "* Indexing beyond the end of the collection is an error."
   ]
  }
 ],
 "metadata": {
  "kernelspec": {
   "display_name": "Python 3",
   "language": "python",
   "name": "python3"
  },
  "language_info": {
   "codemirror_mode": {
    "name": "ipython",
    "version": 3
   },
   "file_extension": ".py",
   "mimetype": "text/x-python",
   "name": "python",
   "nbconvert_exporter": "python",
   "pygments_lexer": "ipython3",
   "version": "3.7.0"
  }
 },
 "nbformat": 4,
 "nbformat_minor": 2
}
