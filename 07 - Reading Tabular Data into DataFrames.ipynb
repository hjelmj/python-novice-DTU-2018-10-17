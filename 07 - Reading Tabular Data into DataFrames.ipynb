{
 "cells": [
  {
   "cell_type": "markdown",
   "metadata": {},
   "source": [
    "## 07 - Reading Tabular Data into DataFrames\n",
    "\n",
    "\n",
    "*Teaching:* 10 min, *Exercises*: 10 min\n",
    "\n",
    "**Questions**\n",
    "\n",
    "* How can I read tabular data?\n",
    "\n",
    "\n",
    "**Objectives**\n",
    "\n",
    "* Import the Pandas library.\n",
    "\n",
    "* Use Pandas to load a simple CSV data set.\n",
    "\n",
    "* Get some basic information about a Pandas DataFrame."
   ]
  },
  {
   "cell_type": "markdown",
   "metadata": {},
   "source": [
    "![Pandas](https://pandas.pydata.org/_static/pandas_logo.png)\n",
    "\n",
    "https://pandas.pydata.org/index.html"
   ]
  },
  {
   "cell_type": "markdown",
   "metadata": {},
   "source": [
    "### Use the Pandas library to do statistics on tabular data.\n",
    "\n",
    "* Pandas is a widely-used Python library for statistics, particularly on tabular data.\n",
    "\n",
    "\n",
    "* Borrows many features from R’s dataframes.\n",
    "\n",
    "\n",
    "* A 2-dimenstional table whose columns have names and potentially have different data types.\n",
    "\n",
    "\n",
    "* Load it with `import pandas` or `import pandas as pd` (this is the typical way to alias Pandas...).\n",
    "\n",
    "\n",
    "* Read a Comma Separate Values (CSV) data file with pandas.read_csv.\n",
    "\n",
    "\n",
    "* Argument is the name of the file to be read.\n",
    "\n",
    "\n",
    "* Assign result to a variable to store the data that was read."
   ]
  },
  {
   "cell_type": "code",
   "execution_count": 2,
   "metadata": {},
   "outputs": [],
   "source": [
    "# import pandas\n"
   ]
  },
  {
   "cell_type": "code",
   "execution_count": 3,
   "metadata": {},
   "outputs": [],
   "source": [
    "# load the data and assign to a variable\n"
   ]
  },
  {
   "cell_type": "code",
   "execution_count": 5,
   "metadata": {},
   "outputs": [],
   "source": [
    "# display the data (using print)\n"
   ]
  },
  {
   "cell_type": "markdown",
   "metadata": {},
   "source": [
    "* The columns in a dataframe are the observed variables, and the rows are the observations.\n",
    "* Pandas uses backslash `\\` to show wrapped lines when output is too wide to fit the screen (when printed)."
   ]
  },
  {
   "cell_type": "markdown",
   "metadata": {},
   "source": [
    "## ! File Not Found !\n",
    "\n",
    "\n",
    "These lessons store their data files in a data sub-directory, which is why the path to the file is `data/gapminder_gdp_oceania.csv`. If you forget to include data/, or if you include it but your copy of the file is somewhere else, you will get a runtime error that ends with a line like this:"
   ]
  },
  {
   "cell_type": "markdown",
   "metadata": {},
   "source": [
    "### Use index_col to specify that a column’s values should be used as row headings.\n"
   ]
  },
  {
   "cell_type": "code",
   "execution_count": null,
   "metadata": {},
   "outputs": [],
   "source": []
  }
 ],
 "metadata": {
  "kernelspec": {
   "display_name": "Python 3",
   "language": "python",
   "name": "python3"
  },
  "language_info": {
   "codemirror_mode": {
    "name": "ipython",
    "version": 3
   },
   "file_extension": ".py",
   "mimetype": "text/x-python",
   "name": "python",
   "nbconvert_exporter": "python",
   "pygments_lexer": "ipython3",
   "version": "3.6.5"
  },
  "toc": {
   "base_numbering": 1,
   "nav_menu": {},
   "number_sections": false,
   "sideBar": false,
   "skip_h1_title": false,
   "title_cell": "Table of Contents",
   "title_sidebar": "Contents",
   "toc_cell": false,
   "toc_position": {},
   "toc_section_display": false,
   "toc_window_display": false
  }
 },
 "nbformat": 4,
 "nbformat_minor": 2
}
