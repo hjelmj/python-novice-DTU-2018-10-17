{
 "cells": [
  {
   "cell_type": "markdown",
   "metadata": {},
   "source": [
    "# Variable Scope\n",
    "\n",
    "### Questions\n",
    "* How do function calls actually work?\n",
    "\n",
    "* How can I determine where errors occurred?\n",
    "\n",
    "### Objectives\n",
    "* Identify local and global variables.\n",
    "\n",
    "* Identify parameters as local variables.\n",
    "\n",
    "* Read a traceback and determine the file, function, and line number on which the error occurred, the type of error, and the error message.\n",
    "\n",
    "### The scope of a variable is the part of a program that can ‘see’ that variable.\n",
    "\n",
    "* There are only so many sensible names for variables.\n",
    "* People using functions shouldn’t have to worry about what variable names the author of the function used.\n",
    "* People writing functions shouldn’t have to worry about what variable names the function’s caller uses.\n",
    "* The part of a program in which a variable is visible is called its **scope**.\n"
   ]
  },
  {
   "cell_type": "code",
   "execution_count": null,
   "metadata": {},
   "outputs": [],
   "source": []
  },
  {
   "cell_type": "markdown",
   "metadata": {},
   "source": [
    "## Exercises\n",
    "\n",
    "https://swcarpentry.github.io/python-novice-gapminder/15-scope/index.html"
   ]
  },
  {
   "cell_type": "code",
   "execution_count": null,
   "metadata": {},
   "outputs": [],
   "source": []
  },
  {
   "cell_type": "code",
   "execution_count": null,
   "metadata": {},
   "outputs": [],
   "source": []
  },
  {
   "cell_type": "code",
   "execution_count": null,
   "metadata": {},
   "outputs": [],
   "source": []
  },
  {
   "cell_type": "code",
   "execution_count": null,
   "metadata": {},
   "outputs": [],
   "source": []
  },
  {
   "cell_type": "markdown",
   "metadata": {},
   "source": [
    "## Key points\n",
    "* The scope of a variable is the part of a program that can ‘see’ that variable."
   ]
  }
 ],
 "metadata": {
  "kernelspec": {
   "display_name": "Python 3",
   "language": "python",
   "name": "python3"
  },
  "language_info": {
   "codemirror_mode": {
    "name": "ipython",
    "version": 3
   },
   "file_extension": ".py",
   "mimetype": "text/x-python",
   "name": "python",
   "nbconvert_exporter": "python",
   "pygments_lexer": "ipython3",
   "version": "3.7.0"
  }
 },
 "nbformat": 4,
 "nbformat_minor": 2
}
