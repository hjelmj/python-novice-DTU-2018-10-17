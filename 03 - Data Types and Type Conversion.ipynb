{
 "cells": [
  {
   "cell_type": "markdown",
   "metadata": {},
   "source": [
    "## 03 - Data Types and Type Conversion\n",
    "\n",
    "\n",
    "*Teaching:* 10 min, *Exercises*: 10 min\n",
    "\n",
    "**Questions**\n",
    "\n",
    "* What kinds of data do programs store?\n",
    "\n",
    "* How can I convert one type to another?\n",
    "\n",
    "\n",
    "**Objectives**\n",
    "\n",
    "* Explain key differences between integers and floating point numbers.\n",
    "\n",
    "* Explain key differences between numbers and character strings.\n",
    "\n",
    "* Use built-in functions to convert between integers, floating point numbers, and strings."
   ]
  },
  {
   "cell_type": "markdown",
   "metadata": {},
   "source": [
    "### Every value has a type.\n",
    "\n",
    "* Every value in a program has a specific type.\n",
    "\n",
    "\n",
    "* Integer (`int`): represents positive or negative whole numbers like 3 or -512.\n",
    "\n",
    "\n",
    "* Floating point number (`float`): represents real numbers like 3.14159 or -2.5.\n",
    "\n",
    "\n",
    "* Character string (usually called “string”, `str`): text.\n",
    "    * Written in either single quotes or double quotes (as long as they match).\n",
    "    * The quote marks aren’t printed when the string is displayed."
   ]
  },
  {
   "cell_type": "markdown",
   "metadata": {},
   "source": [
    "### Use the built-in function type to find the type of a value.\n",
    "\n",
    "* Use the built-in function `type` to find out what type a value has.\n",
    "* Works on variables as well.\n",
    "    * But remember: the value has the type — the variable is just a label."
   ]
  },
  {
   "cell_type": "markdown",
   "metadata": {},
   "source": [
    "### Types control what operations (or methods) can be performed on a given value.\n",
    "\n",
    "* A value’s type determines what the program can do to it.\n"
   ]
  },
  {
   "cell_type": "code",
   "execution_count": null,
   "metadata": {},
   "outputs": [],
   "source": []
  },
  {
   "cell_type": "markdown",
   "metadata": {},
   "source": [
    "### You can use the “+” and “*” operators on strings.\n",
    "\n",
    "* “Adding” character strings concatenates them."
   ]
  },
  {
   "cell_type": "code",
   "execution_count": null,
   "metadata": {},
   "outputs": [],
   "source": []
  },
  {
   "cell_type": "markdown",
   "metadata": {},
   "source": [
    "* Multiplying a character string by an integer N creates a new string that consists of that character string repeated N times.\n",
    "    * Since multiplication is repeated addition."
   ]
  },
  {
   "cell_type": "code",
   "execution_count": null,
   "metadata": {},
   "outputs": [],
   "source": []
  },
  {
   "cell_type": "markdown",
   "metadata": {},
   "source": [
    "### Strings have a length (but numbers don’t).\n",
    "\n",
    "* The built-in function `len` counts the number of characters in a string."
   ]
  },
  {
   "cell_type": "code",
   "execution_count": null,
   "metadata": {},
   "outputs": [],
   "source": []
  },
  {
   "cell_type": "markdown",
   "metadata": {},
   "source": [
    "* But numbers don’t have a length (not even zero)."
   ]
  },
  {
   "cell_type": "code",
   "execution_count": null,
   "metadata": {},
   "outputs": [],
   "source": []
  },
  {
   "cell_type": "markdown",
   "metadata": {},
   "source": [
    "### Must convert numbers to strings or vice versa when operating on them.\n",
    "* Cannot add numbers and strings.\n"
   ]
  },
  {
   "cell_type": "code",
   "execution_count": null,
   "metadata": {},
   "outputs": [],
   "source": []
  },
  {
   "cell_type": "markdown",
   "metadata": {},
   "source": [
    "* Not allowed because it’s ambiguous: should 1 + '2' be 3 or '12'?\n",
    "* Some types can be converted to other types by using the type name as a function."
   ]
  },
  {
   "cell_type": "code",
   "execution_count": null,
   "metadata": {},
   "outputs": [],
   "source": []
  },
  {
   "cell_type": "markdown",
   "metadata": {},
   "source": [
    "### Can mix integers and floats freely in operations.\n",
    "\n",
    "* Integers and floating-point numbers can be mixed in arithmetic.\n",
    "    * Python 3 automatically converts integers to floats as needed. (Integer division in Python 2 will return an integer, the floor of the division.)"
   ]
  },
  {
   "cell_type": "code",
   "execution_count": null,
   "metadata": {},
   "outputs": [],
   "source": []
  },
  {
   "cell_type": "markdown",
   "metadata": {},
   "source": [
    "### Variables only change value when something is assigned to them.\n",
    "\n",
    "* If we make one cell in a spreadsheet depend on another, and update the latter, the former updates automatically.\n",
    "\n",
    "\n",
    "* This **does not** happen in programming languages."
   ]
  },
  {
   "cell_type": "code",
   "execution_count": null,
   "metadata": {},
   "outputs": [],
   "source": []
  },
  {
   "cell_type": "markdown",
   "metadata": {},
   "source": [
    "* The computer reads the value of first when doing the multiplication, creates a new value, and assigns it to second.\n",
    "* After that, second does not remember where it came from."
   ]
  },
  {
   "cell_type": "markdown",
   "metadata": {},
   "source": [
    "## Exercises\n",
    "\n",
    "Exercises here: https://swcarpentry.github.io/python-novice-gapminder/03-types-conversion/index.html"
   ]
  },
  {
   "cell_type": "code",
   "execution_count": null,
   "metadata": {},
   "outputs": [],
   "source": []
  },
  {
   "cell_type": "code",
   "execution_count": null,
   "metadata": {},
   "outputs": [],
   "source": []
  },
  {
   "cell_type": "code",
   "execution_count": null,
   "metadata": {},
   "outputs": [],
   "source": []
  },
  {
   "cell_type": "code",
   "execution_count": null,
   "metadata": {},
   "outputs": [],
   "source": []
  },
  {
   "cell_type": "code",
   "execution_count": null,
   "metadata": {},
   "outputs": [],
   "source": []
  },
  {
   "cell_type": "markdown",
   "metadata": {},
   "source": [
    "## Key Points\n",
    "\n",
    "*  Every value has a type.\n",
    "\n",
    "\n",
    "* Use the built-in function `type` to find the type of a value.\n",
    "\n",
    "\n",
    "* Types control what operations can be done on values.\n",
    "\n",
    "\n",
    "* Strings can be added and multiplied.\n",
    "\n",
    "\n",
    "* Strings have a length (but numbers don’t).\n",
    "\n",
    "\n",
    "* Must convert numbers to strings or vice versa when operating on them.\n",
    "\n",
    "\n",
    "* Can mix integers and floats freely in operations.\n",
    "\n",
    "\n",
    "* Variables only change value when something is assigned to them."
   ]
  },
  {
   "cell_type": "code",
   "execution_count": null,
   "metadata": {},
   "outputs": [],
   "source": []
  }
 ],
 "metadata": {
  "kernelspec": {
   "display_name": "Python 3",
   "language": "python",
   "name": "python3"
  },
  "language_info": {
   "codemirror_mode": {
    "name": "ipython",
    "version": 3
   },
   "file_extension": ".py",
   "mimetype": "text/x-python",
   "name": "python",
   "nbconvert_exporter": "python",
   "pygments_lexer": "ipython3",
   "version": "3.6.5"
  },
  "toc": {
   "base_numbering": 1,
   "nav_menu": {},
   "number_sections": false,
   "sideBar": false,
   "skip_h1_title": false,
   "title_cell": "Table of Contents",
   "title_sidebar": "Contents",
   "toc_cell": false,
   "toc_position": {},
   "toc_section_display": false,
   "toc_window_display": false
  }
 },
 "nbformat": 4,
 "nbformat_minor": 2
}
