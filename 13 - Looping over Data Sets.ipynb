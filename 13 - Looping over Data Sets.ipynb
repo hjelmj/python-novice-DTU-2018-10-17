{
 "cells": [
  {
   "cell_type": "markdown",
   "metadata": {},
   "source": [
    "# Looping over Data Sets\n",
    "\n",
    "### Key points\n",
    "* Use a `for` loop to process files given a list of their names.\n",
    "* Use `glob.glob` to find sets of files whose names match a pattern.\n",
    "* Use `glob` and `for` to process batches of files.\n",
    "\n",
    "### Use a for loop to process files given a list of their names.\n",
    "* A filename is just a character string.\n",
    "* And lists can contain character strings."
   ]
  },
  {
   "cell_type": "markdown",
   "metadata": {},
   "source": [
    "### Use `glob.glob` to find sets of files whose names match a pattern.\n",
    "* In Unix, the term “globbing” means “matching a set of files with a pattern”.\n",
    "* The most common patterns are:\n",
    "    * `*` meaning “match zero or more characters”\n",
    "    * `?` meaning “match exactly one character”\n",
    "* Python contains the glob library to provide pattern matching functionality\n",
    "* The `glob` library contains a function also called glob to match file patterns\n",
    "* E.g., `glob.glob('*.txt')` matches all files in the current directory whose names end with .txt.\n",
    "* Result is a (possibly empty) list of character strings."
   ]
  },
  {
   "cell_type": "code",
   "execution_count": null,
   "metadata": {},
   "outputs": [],
   "source": []
  },
  {
   "cell_type": "markdown",
   "metadata": {},
   "source": [
    "### Use `glob` and `for` to process batches of files.\n",
    "* Helps a lot if the files are named and stored systematically and consistently so that simple patterns will find the right data."
   ]
  },
  {
   "cell_type": "code",
   "execution_count": null,
   "metadata": {},
   "outputs": [],
   "source": []
  }
 ],
 "metadata": {
  "kernelspec": {
   "display_name": "Python 3",
   "language": "python",
   "name": "python3"
  },
  "language_info": {
   "codemirror_mode": {
    "name": "ipython",
    "version": 3
   },
   "file_extension": ".py",
   "mimetype": "text/x-python",
   "name": "python",
   "nbconvert_exporter": "python",
   "pygments_lexer": "ipython3",
   "version": "3.7.0"
  }
 },
 "nbformat": 4,
 "nbformat_minor": 2
}
