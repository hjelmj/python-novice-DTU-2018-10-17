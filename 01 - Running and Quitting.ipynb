{
 "cells": [
  {
   "cell_type": "markdown",
   "metadata": {
    "slideshow": {
     "slide_type": "slide"
    }
   },
   "source": [
    "## 01 - Running and Quitting\n",
    "\n",
    "\n",
    "*Teaching:* 15 min, *Exercises*: 0 min\n",
    "\n",
    "**Questions**\n",
    "\n",
    "* How can I run Python programs?  \n",
    "\n",
    "\n",
    "**Objectives**\n",
    "\n",
    "* Launch the Jupyter Notebook, create new notebooks, and exit the Notebook.\n",
    "\n",
    "* Create Markdown cells in a notebook.\n",
    "\n",
    "* Create and run Python cells in a notebook.\n"
   ]
  },
  {
   "cell_type": "markdown",
   "metadata": {
    "slideshow": {
     "slide_type": "slide"
    }
   },
   "source": [
    "### Python programs are plain text files"
   ]
  },
  {
   "cell_type": "markdown",
   "metadata": {
    "slideshow": {
     "slide_type": "fragment"
    }
   },
   "source": [
    "* They have the .py extension to let everyone (including the operating system) know it is a Python program. This is convention, not a requirement."
   ]
  },
  {
   "cell_type": "markdown",
   "metadata": {
    "slideshow": {
     "slide_type": "fragment"
    }
   },
   "source": [
    "* It’s common to write them using a text editor but we are going to use the Jupyter Notebook."
   ]
  },
  {
   "cell_type": "markdown",
   "metadata": {
    "slideshow": {
     "slide_type": "fragment"
    }
   },
   "source": [
    "* The bit of extra setup is well worth it because the Notebook provides code completion and other helpful features."
   ]
  },
  {
   "cell_type": "markdown",
   "metadata": {
    "slideshow": {
     "slide_type": "fragment"
    }
   },
   "source": [
    "* Notebook files have the extension .ipynb to distinguish them from plain-text Python programs. Can export as “pure Python” to run from the command line."
   ]
  },
  {
   "cell_type": "markdown",
   "metadata": {
    "slideshow": {
     "slide_type": "slide"
    }
   },
   "source": [
    "### Use the Jupyter Notebook for editing and running Python.\n",
    "\n",
    "* The [Anaconda package manager](https://docs.continuum.io/anaconda/install/) is an automated way to install the Jupyter notebook.\n",
    "* See the setup instructions for Anaconda installation instructions.\n",
    "* It also installs all the extra libraries it needs to run.\n",
    "  <img src=\"img/scipy-stack_core_packages.png\" style=\"height: 450px\">\n"
   ]
  },
  {
   "cell_type": "markdown",
   "metadata": {
    "slideshow": {
     "slide_type": "subslide"
    }
   },
   "source": [
    "* Once you have installed **Python** and the **Jupyter Notebook** requirements:\n",
    "\n",
    "  - open a shell and type:  \n",
    "    ```\n",
    "    jupyter notebook\n",
    "\n",
    "    ```\n",
    "  - or start Jupyter Notebook from the Anaconda Navigator GUI (OSX, Linux, Windows)\n",
    "  - or find the Jupyter Notebook entry in the start menu (Windows) and launch from there\n",
    "  \n",
    "* This will start a Jupyter Notebook server and open your default web browser.\n"
   ]
  },
  {
   "cell_type": "markdown",
   "metadata": {
    "slideshow": {
     "slide_type": "subslide"
    }
   },
   "source": [
    "* The server runs locally on your machine only and does not use an internet connection.\n",
    "* The server sends messages to your browser.\n",
    "* The server does the work and the web browser renders the notebook.\n",
    "* You can type code into the browser and see the result when the web page talks to the server.\n",
    "\n",
    "\n",
    "* **This has several advantages:**\n",
    "    - You can easily type, edit, and copy and paste blocks of code.\n",
    "    - **Tab complete** allows you to easily access the names of things you are using and learn more about them.\n",
    "    - It allows you to **_annotate_ your code** with links, different sized text, bullets, etc. to make it more accessible to you and your collaborators.\n",
    "    - It allows you to display figures next to the code that produces them (inline output) to tell a complete story of the analysis."
   ]
  },
  {
   "cell_type": "markdown",
   "metadata": {
    "slideshow": {
     "slide_type": "slide"
    }
   },
   "source": [
    "<img src=\"img/jrjohansson_qutip_lesson2B_screenshot.png\" style=\"height: 750px, text-align: center\">\n",
    "\n",
    "Screenshot of a [Jupyter Notebook on quantum mechanics](https://github.com/jrjohansson/qutip-lectures) by Robert Johansson"
   ]
  },
  {
   "cell_type": "markdown",
   "metadata": {
    "slideshow": {
     "slide_type": "slide"
    }
   },
   "source": [
    "### How It's Stored\n",
    "\n",
    "* The notebook file is stored in a format called [JSON](https://en.wikipedia.org/wiki/JSON)\n",
    "\n",
    "```JSON\n",
    "\n",
    "{\n",
    "     \"firstName\": \"Jason\",\n",
    "     \"lastName\": \"Smith\",\n",
    "     \"age\": 25,\n",
    "     \"address\": {\n",
    "         \"streetAddress\": \"21 2nd Street\",\n",
    "         \"city\": \"New York\",\n",
    "         \"state\": \"NY\",\n",
    "         \"postalCode\": \"10021\"\n",
    "     },\n",
    "     \"phoneNumber\": [\n",
    "         { \"type\": \"home\", \"number\": \"212 555-1234\" },\n",
    "         { \"type\": \"fax\", \"number\": \"646 555-4567\" }\n",
    "     ],\n",
    "     \"newSubscription\": false,\n",
    "     \"companyName\": null\n",
    " }\n",
    "\n",
    "```\n",
    "\n",
    "* Just like a webpage, what’s saved looks different from what you see in your browser.\n",
    "\n",
    "\n",
    "* But this format allows Jupyter to mix source code, text, and images, all in one file."
   ]
  },
  {
   "cell_type": "markdown",
   "metadata": {
    "slideshow": {
     "slide_type": "slide"
    }
   },
   "source": [
    "### The Notebook has Command and Edit modes\n",
    "\n",
    "* Open a new notebook from the dropdown menu (that says ‘New’) in the top right corner of the file browser page.\n",
    "\n",
    "\n",
    "* Each notebook contains one or more cells that contain code, text, or images."
   ]
  },
  {
   "cell_type": "code",
   "execution_count": 14,
   "metadata": {
    "slideshow": {
     "slide_type": "fragment"
    }
   },
   "outputs": [
    {
     "name": "stdout",
     "output_type": "stream",
     "text": [
      "hello\n",
      "hello\n",
      "hello\n",
      "hello\n"
     ]
    }
   ],
   "source": [
    "# this is a code cell\n",
    "for i in range(3):\n",
    "    print('hello')"
   ]
  },
  {
   "cell_type": "raw",
   "metadata": {
    "slideshow": {
     "slide_type": "fragment"
    }
   },
   "source": [
    "this is a text cell"
   ]
  },
  {
   "cell_type": "markdown",
   "metadata": {
    "slideshow": {
     "slide_type": "skip"
    }
   },
   "source": [
    "## Code vs Text\n",
    "\n",
    "We often use the term “code” to mean “the source code of software written in a language such as Python”. \n",
    "\n",
    "A “code cell” in a Notebook is a cell that contains software; a “text cell” is one that contains ordinary prose written for human beings.\n"
   ]
  },
  {
   "cell_type": "markdown",
   "metadata": {
    "slideshow": {
     "slide_type": "subslide"
    }
   },
   "source": [
    "* If you press “esc” and “return” alternately, the outer border of your code cell will change from gray/blue to green.\n",
    "    * The difference in color is subtle.\n",
    "    \n",
    "    \n",
    "* These are the command (gray) and edit (green) modes of your notebook.\n",
    "\n",
    "\n",
    "* In command mode, pressing the “H” key will provide a list of all the shortcut keys.\n",
    "\n",
    "\n",
    "* Command mode allows you to edit notebook-level features, and edit mode changes the content of cells."
   ]
  },
  {
   "cell_type": "markdown",
   "metadata": {
    "slideshow": {
     "slide_type": "subslide"
    }
   },
   "source": [
    "* When in **command mode** (esc/gray-blue),\n",
    "    * The “B” key will make a new cell below the currently selected cell.\n",
    "    * The “A” key will make one above.\n",
    "    * The “X” key will delete the current cell.\n",
    "    * The “Z” key will undo your last cell deletion.\n",
    "    \n",
    "    \n",
    "* All actions can be done using the menus, but there are lots of keyboard shortcuts to speed things up.\n",
    "\n",
    "\n",
    "* If you remember the “esc” and “H” shortcut, you will be able to find out all the rest."
   ]
  },
  {
   "cell_type": "markdown",
   "metadata": {
    "slideshow": {
     "slide_type": "notes"
    }
   },
   "source": [
    "Command mode has a grey boarder and Edit mode has a green border. Use “esc” and “Enter” to switch between modes. You need to be in command mode (Hit “esc” if your cell is green). Type “B” or “A”. You need to be in command mode (Hit “esc” if your cell is green). Type “X”."
   ]
  },
  {
   "cell_type": "markdown",
   "metadata": {
    "slideshow": {
     "slide_type": "subslide"
    }
   },
   "source": [
    "### Exercise - Command vs Edit\n",
    "In the Jupyter notebook page are you currently in command or edit mode?\n",
    "\n",
    "Switch between the modes. \n",
    "\n",
    "Use the shortcuts (\"A\" and \"B\" keys) to generate a new cell. \n",
    "\n",
    "Use the shortcuts to delete a cell (\"X\" key)"
   ]
  },
  {
   "cell_type": "markdown",
   "metadata": {
    "slideshow": {
     "slide_type": "subslide"
    }
   },
   "source": [
    "## Editing and Executing Cells\n",
    "\n",
    "* Pressing the “return” key turns the border green and engages edit mode, which allows you to type within the cell.\n",
    "\n",
    "* Because we want to be able to write many lines of code in a single cell, pressing the “return” key when in edit mode (green) moves the cursor to the next line in the cell just like in a text editor.\n",
    "\n",
    "* We need some other way to tell the Notebook we want to run what’s in the cell.  \n",
    "\n",
    "* Pressing the `SHIFT` + `ENTER` key together will execute the contents of the cell.  \n",
    "\n",
    "* Notice that the `ENTER` (\"return\") and `SHIFT` keys on the right of the keyboard are right next to each other."
   ]
  },
  {
   "cell_type": "markdown",
   "metadata": {
    "slideshow": {
     "slide_type": "slide"
    }
   },
   "source": [
    "## The Notebook will turn Markdown into pretty-printed documentation.\n",
    "\n"
   ]
  },
  {
   "cell_type": "code",
   "execution_count": null,
   "metadata": {},
   "outputs": [],
   "source": []
  }
 ],
 "metadata": {
  "celltoolbar": "Slideshow",
  "kernelspec": {
   "display_name": "Python 3",
   "language": "python",
   "name": "python3"
  },
  "language_info": {
   "codemirror_mode": {
    "name": "ipython",
    "version": 3
   },
   "file_extension": ".py",
   "mimetype": "text/x-python",
   "name": "python",
   "nbconvert_exporter": "python",
   "pygments_lexer": "ipython3",
   "version": "3.6.5"
  },
  "toc": {
   "base_numbering": 1,
   "nav_menu": {},
   "number_sections": false,
   "sideBar": false,
   "skip_h1_title": false,
   "title_cell": "Table of Contents",
   "title_sidebar": "Contents",
   "toc_cell": false,
   "toc_position": {},
   "toc_section_display": false,
   "toc_window_display": false
  }
 },
 "nbformat": 4,
 "nbformat_minor": 2
}
