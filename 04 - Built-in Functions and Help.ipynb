{
 "cells": [
  {
   "cell_type": "markdown",
   "metadata": {},
   "source": [
    "## 04 - Built-in Functions and Help\n",
    "\n",
    "\n",
    "*Teaching:* 15 min, *Exercises*: 10 min\n",
    "\n",
    "**Questions**\n",
    "\n",
    "* How can I use built-in functions?\n",
    "\n",
    "* How can I find out what they do?\n",
    "\n",
    "* What kind of errors can occur in programs?\n",
    "\n",
    "\n",
    "**Objectives**\n",
    "\n",
    "* Explain the purpose of functions.\n",
    "\n",
    "* Correctly call built-in Python functions.\n",
    "\n",
    "* Correctly nest calls to built-in functions.\n",
    "\n",
    "* Use help to display documentation for built-in functions.\n",
    "\n",
    "* Correctly describe situations in which SyntaxError and NameError occur."
   ]
  },
  {
   "cell_type": "markdown",
   "metadata": {},
   "source": [
    "### Use comments to add documentation to programs"
   ]
  },
  {
   "cell_type": "code",
   "execution_count": 1,
   "metadata": {},
   "outputs": [],
   "source": [
    "# This sentence isn't executed by Python.\n",
    "adjustment = 0.5   # Neither is this - anything after '#' is ignored."
   ]
  },
  {
   "cell_type": "markdown",
   "metadata": {},
   "source": [
    "### A function may take zero or more arguments.\n",
    "\n",
    "* We have seen some functions already — now let’s take a closer look.\n",
    "\n",
    "\n",
    "* An argument is a value passed into a function.\n",
    "\n",
    "\n",
    "* `len` takes exactly one.\n",
    "* `int`, `str`, and `float` create a new value from an existing one.\n",
    "* `print` takes zero or more.\n",
    "* `print` with no arguments prints a blank line.\n",
    "    * Must always use parentheses, even if they’re empty, so that Python knows a function is being called."
   ]
  },
  {
   "cell_type": "code",
   "execution_count": 2,
   "metadata": {},
   "outputs": [],
   "source": [
    "# before - after\n"
   ]
  },
  {
   "cell_type": "markdown",
   "metadata": {},
   "source": [
    "### Commonly-used built-in functions include `max`, `min`, and `round`.\n",
    "\n",
    "* Use `max` to find the largest value of one or more values.\n",
    "\n",
    "\n",
    "* Use `min` to find the smallest.\n",
    "\n",
    "\n",
    "* Both work on character strings as well as numbers.\n",
    "\n",
    "\n",
    "* “Larger” and “smaller” use (0-9, A-Z, a-z) to compare letters."
   ]
  },
  {
   "cell_type": "code",
   "execution_count": 3,
   "metadata": {},
   "outputs": [],
   "source": [
    "# max - min\n"
   ]
  },
  {
   "cell_type": "markdown",
   "metadata": {},
   "source": [
    "### Functions may only work for certain (combinations of) arguments.\n",
    "\n",
    "* `max` and `min` must be given at least one argument.\n",
    "    * “Largest of the empty set” is a meaningless question.\n",
    "    \n",
    "    \n",
    "* And they must be given things that can meaningfully be compared.\n"
   ]
  },
  {
   "cell_type": "code",
   "execution_count": null,
   "metadata": {},
   "outputs": [],
   "source": [
    "print(max(1, 'a'))"
   ]
  },
  {
   "cell_type": "markdown",
   "metadata": {},
   "source": [
    "### Functions may have *default values* for some arguments.\n",
    "\n",
    "* `round` will round off a floating-point number.\n",
    "* By default, rounds to zero decimal places."
   ]
  },
  {
   "cell_type": "code",
   "execution_count": null,
   "metadata": {},
   "outputs": [],
   "source": []
  },
  {
   "cell_type": "markdown",
   "metadata": {},
   "source": [
    "* We can specify the number of decimal places we want."
   ]
  },
  {
   "cell_type": "code",
   "execution_count": null,
   "metadata": {},
   "outputs": [],
   "source": []
  },
  {
   "cell_type": "markdown",
   "metadata": {},
   "source": [
    "### Use the built-in function `help` to get help for a function.\n",
    "* Every built-in function has online documentation.\n"
   ]
  },
  {
   "cell_type": "code",
   "execution_count": null,
   "metadata": {},
   "outputs": [],
   "source": []
  },
  {
   "cell_type": "markdown",
   "metadata": {},
   "source": [
    "### Python reports a syntax error when it can’t understand the source of a program.\n",
    "* Won’t even try to run the program if it can’t be parsed.\n"
   ]
  },
  {
   "cell_type": "code",
   "execution_count": 4,
   "metadata": {},
   "outputs": [],
   "source": [
    "# forgot to close quote marks around string...\n"
   ]
  },
  {
   "cell_type": "code",
   "execution_count": 5,
   "metadata": {},
   "outputs": [],
   "source": [
    "# an extra \"=\" in an assignment...\n"
   ]
  },
  {
   "cell_type": "markdown",
   "metadata": {},
   "source": [
    "* Look more closely at the error message:"
   ]
  },
  {
   "cell_type": "code",
   "execution_count": 6,
   "metadata": {},
   "outputs": [],
   "source": [
    "# forgot to close parentheses in print statement\n"
   ]
  },
  {
   "cell_type": "markdown",
   "metadata": {},
   "source": [
    "* The message indicates a problem on first line of the input (“line 1”).\n",
    "    * In this case the “ipython-input” section of the file name tells us that we are working with input into IPython, the Python interpreter used by the Jupyter Notebook.\n",
    "    \n",
    "    \n",
    "* The -6- part of the filename indicates that the error occurred in cell 6 of our Notebook.\n",
    "\n",
    "\n",
    "* Next is the problematic line of code, indicating the problem with a ^ pointer."
   ]
  },
  {
   "cell_type": "markdown",
   "metadata": {},
   "source": [
    "### Python reports a runtime error when something goes wrong while a program is executing"
   ]
  },
  {
   "cell_type": "code",
   "execution_count": 7,
   "metadata": {},
   "outputs": [],
   "source": [
    "# age - remaining age\n",
    "\n"
   ]
  },
  {
   "cell_type": "markdown",
   "metadata": {},
   "source": [
    "* Fix syntax errors by reading the source and runtime errors by tracing execution."
   ]
  },
  {
   "cell_type": "markdown",
   "metadata": {},
   "source": [
    "### The Jupyter Notebook has two ways to get help.\n",
    "\n",
    "1. Place the cursor inside the parenthesis of the function, hold down `shift`, and press `tab`.\n",
    "2. Or type a function name with a question mark after it."
   ]
  },
  {
   "cell_type": "code",
   "execution_count": null,
   "metadata": {},
   "outputs": [],
   "source": []
  },
  {
   "cell_type": "markdown",
   "metadata": {},
   "source": [
    "### Every function returns something.\n",
    "\n",
    "* Every function call produces some result.\n",
    "\n",
    "* If the function doesn’t have a useful result to return, it usually returns the special value `None`.\n"
   ]
  },
  {
   "cell_type": "code",
   "execution_count": null,
   "metadata": {},
   "outputs": [],
   "source": []
  },
  {
   "cell_type": "markdown",
   "metadata": {},
   "source": [
    "## Exercises\n",
    "\n",
    "https://swcarpentry.github.io/python-novice-gapminder/04-built-in/index.html"
   ]
  },
  {
   "cell_type": "code",
   "execution_count": null,
   "metadata": {},
   "outputs": [],
   "source": []
  },
  {
   "cell_type": "code",
   "execution_count": null,
   "metadata": {},
   "outputs": [],
   "source": []
  },
  {
   "cell_type": "code",
   "execution_count": null,
   "metadata": {},
   "outputs": [],
   "source": []
  },
  {
   "cell_type": "code",
   "execution_count": null,
   "metadata": {},
   "outputs": [],
   "source": []
  },
  {
   "cell_type": "code",
   "execution_count": null,
   "metadata": {},
   "outputs": [],
   "source": []
  },
  {
   "cell_type": "markdown",
   "metadata": {},
   "source": [
    "## Key Points\n",
    "\n",
    "* Use comments to add documentation to programs.\n",
    "\n",
    "\n",
    "* A function may take zero or more arguments.\n",
    "\n",
    "\n",
    "* Commonly-used built-in functions include `max`, `min`, and `round`.\n",
    "\n",
    "\n",
    "* Functions may only work for certain (combinations of) arguments.\n",
    "\n",
    "\n",
    "* Functions may have default values for some arguments.\n",
    "\n",
    "\n",
    "* Use the built-in function `help` to get help for a function.\n",
    "\n",
    "\n",
    "* The Jupyter Notebook has two ways to get help.\n",
    "\n",
    "\n",
    "* Every function returns something.\n",
    "\n",
    "\n",
    "* Python reports a syntax error when it can’t understand the source of a program.\n",
    "\n",
    "\n",
    "* Python reports a runtime error when something goes wrong while a program is executing.\n",
    "\n",
    "\n",
    "* Fix syntax errors by reading the source code, and runtime errors by tracing the program’s execution."
   ]
  },
  {
   "cell_type": "code",
   "execution_count": null,
   "metadata": {},
   "outputs": [],
   "source": []
  }
 ],
 "metadata": {
  "kernelspec": {
   "display_name": "Python 3",
   "language": "python",
   "name": "python3"
  },
  "language_info": {
   "codemirror_mode": {
    "name": "ipython",
    "version": 3
   },
   "file_extension": ".py",
   "mimetype": "text/x-python",
   "name": "python",
   "nbconvert_exporter": "python",
   "pygments_lexer": "ipython3",
   "version": "3.6.5"
  },
  "toc": {
   "base_numbering": 1,
   "nav_menu": {},
   "number_sections": false,
   "sideBar": false,
   "skip_h1_title": false,
   "title_cell": "Table of Contents",
   "title_sidebar": "Contents",
   "toc_cell": false,
   "toc_position": {},
   "toc_section_display": false,
   "toc_window_display": false
  }
 },
 "nbformat": 4,
 "nbformat_minor": 2
}
