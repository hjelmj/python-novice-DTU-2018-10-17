{
 "cells": [
  {
   "cell_type": "markdown",
   "metadata": {},
   "source": [
    "# Writing Functions\n",
    "\n",
    "### Break programs down into functions to make them easier to understand.\n",
    "\n",
    "* Human beings can only keep a few items in working memory at a time.\n",
    "* Understand larger/more complicated ideas by understanding and combining pieces.\n",
    "    * Components in a machine.\n",
    "    * Lemmas when proving theorems.\n",
    "* Functions serve the same purpose in programs.\n",
    "    * Encapsulate complexity so that we can treat it as a single “thing”.\n",
    "* Also enables re-use.\n",
    "* Write one time, use many times.\n",
    "\n",
    "### Define a function using `def` with a name, parameters, and a block of code.\n",
    "* Begin the definition of a new function with def.\n",
    "* Followed by the name of the function.\n",
    "    * Must obey the same rules as variable names.\n",
    "* Then parameters in parentheses.\n",
    "    * Empty parentheses if the function doesn’t take any inputs.\n",
    "    * We will discuss this in detail in a moment.\n",
    "* Then a colon.\n",
    "* Then an indented block of code."
   ]
  },
  {
   "cell_type": "code",
   "execution_count": null,
   "metadata": {},
   "outputs": [],
   "source": []
  },
  {
   "cell_type": "markdown",
   "metadata": {},
   "source": [
    "### Defining a function does not run it.\n",
    "* Defining a function does not run it.\n",
    "    * Like assigning a value to a variable.\n",
    "* Must call the function to execute the code it contains."
   ]
  },
  {
   "cell_type": "code",
   "execution_count": null,
   "metadata": {},
   "outputs": [],
   "source": []
  },
  {
   "cell_type": "markdown",
   "metadata": {},
   "source": [
    "### Arguments in call are matched to parameters in definition.\n",
    "* Functions are most useful when they can operate on different data.\n",
    "* Specify *parameters* when defining a function.\n",
    "    * These become variables when the function is executed.\n",
    "    * Are assigned the arguments in the call (i.e., the values passed to the function).\n",
    "    * If you don’t name the arguments when using them in the call, the arguments will be matched to parameters in the order the arameters are defined in the function.\n",
    "        * **Positional** and **keyword** arguments\n",
    "        * Typically referred to as `args` and `kwargs`"
   ]
  },
  {
   "cell_type": "code",
   "execution_count": null,
   "metadata": {},
   "outputs": [],
   "source": []
  },
  {
   "cell_type": "markdown",
   "metadata": {},
   "source": [
    "### Functions may return a result to their caller using `return`.\n",
    "* Use `return...` to give a value back to the caller.\n",
    "* May occur anywhere in the function.\n",
    "* But functions are easier to understand if `return` occurs:\n",
    "    * At the start to handle special cases.\n",
    "    * At the very end, with a final result.\n",
    "    * A function that doesn’t explicitly `return` a value automatically returns `None`."
   ]
  },
  {
   "cell_type": "code",
   "execution_count": null,
   "metadata": {},
   "outputs": [],
   "source": []
  }
 ],
 "metadata": {
  "kernelspec": {
   "display_name": "Python 3",
   "language": "python",
   "name": "python3"
  },
  "language_info": {
   "codemirror_mode": {
    "name": "ipython",
    "version": 3
   },
   "file_extension": ".py",
   "mimetype": "text/x-python",
   "name": "python",
   "nbconvert_exporter": "python",
   "pygments_lexer": "ipython3",
   "version": "3.7.0"
  }
 },
 "nbformat": 4,
 "nbformat_minor": 2
}
