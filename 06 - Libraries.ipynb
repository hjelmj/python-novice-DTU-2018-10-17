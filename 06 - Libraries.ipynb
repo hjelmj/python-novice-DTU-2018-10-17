{
 "cells": [
  {
   "cell_type": "markdown",
   "metadata": {},
   "source": [
    "## 06 - Built-in Functions and Help\n",
    "\n",
    "\n",
    "*Teaching:* 10 min, *Exercises*: 10 min\n",
    "\n",
    "**Questions**\n",
    "\n",
    "* How can I use software that other people have written?\n",
    "\n",
    "* How can I find out what that software does?\n",
    "\n",
    "**Objectives**\n",
    "\n",
    "* Explain what software libraries are and why programmers create and use them.\n",
    "\n",
    "* Write programs that import and use libraries from Python’s standard library.\n",
    "\n",
    "* Find and read documentation for standard libraries interactively (in the interpreter) and online."
   ]
  },
  {
   "cell_type": "markdown",
   "metadata": {},
   "source": [
    "## Most of the power of a programming language is in its libraries.\n",
    "\n",
    "* A library is a collection of files (called modules) that contains functions for use by other programs.\n",
    "\n",
    "\n",
    "* May also contain data values (e.g., numerical constants) and other things.\n",
    "\n",
    "\n",
    "* Library’s contents are supposed to be related, but there’s no way to enforce that.\n",
    "\n",
    "\n",
    "* The Python standard library is an extensive suite of modules that comes with Python itself.\n",
    "\n",
    "\n",
    "* Many additional libraries are available from PyPI (the Python Package Index).\n"
   ]
  },
  {
   "cell_type": "markdown",
   "metadata": {},
   "source": [
    "#### Libraries and Modules\n",
    "\n",
    "*A library is a collection of modules, but the terms are often used interchangeably, especially since many libraries only consist of a single module, so don’t worry if you mix them.*\n"
   ]
  },
  {
   "cell_type": "markdown",
   "metadata": {},
   "source": [
    "### A program must import a library module before using it.\n",
    "\n",
    "* Use `import` to load a library module into a program’s memory.\n",
    "\n",
    "\n",
    "* Then refer to things from the module as `module_name.thing_name`. (this is often referred to as \"dot notation\")\n",
    "\n",
    "\n",
    "* Python uses . to mean “part of”.\n",
    "\n",
    "\n",
    "* Using `math`, one of the modules in the standard library:"
   ]
  },
  {
   "cell_type": "code",
   "execution_count": 1,
   "metadata": {},
   "outputs": [],
   "source": [
    "# import the library, then do maths on e.g. a constant (pi)\n",
    "\n"
   ]
  },
  {
   "cell_type": "markdown",
   "metadata": {},
   "source": [
    "* Have to refer to each item with the module’s name.\n",
    "    * `math.cos(pi)` won’t work: the reference to `pi` doesn’t somehow “inherit” the function’s reference to `math`."
   ]
  },
  {
   "cell_type": "markdown",
   "metadata": {},
   "source": [
    "### Use help to learn about the contents of a library module.\n",
    "\n",
    "* Works just like help for a function.\n"
   ]
  },
  {
   "cell_type": "code",
   "execution_count": null,
   "metadata": {},
   "outputs": [],
   "source": []
  },
  {
   "cell_type": "markdown",
   "metadata": {},
   "source": [
    "### Import specific items from a library module to shorten programs.\n",
    "\n",
    "* Use `from ... import ... to` load only specific items from a library module.\n",
    "* Then refer to them directly without library name as prefix."
   ]
  },
  {
   "cell_type": "code",
   "execution_count": null,
   "metadata": {},
   "outputs": [],
   "source": []
  },
  {
   "cell_type": "markdown",
   "metadata": {},
   "source": [
    "### Create an alias for a library module when importing it to shorten programs.\n",
    "\n",
    "* Use `import ... as ...` to give a library a short alias while importing it.\n",
    "* Then refer to items in the library using that shortened name."
   ]
  },
  {
   "cell_type": "code",
   "execution_count": null,
   "metadata": {},
   "outputs": [],
   "source": []
  },
  {
   "cell_type": "markdown",
   "metadata": {},
   "source": [
    "* Commonly used for libraries that are frequently used or have long names.\n",
    "    * *e.g.*, `matplotlib` plotting library is often aliased as `mpl`.\n",
    "* But this can make programs harder to understand, since readers must learn your program’s aliases, so it is really good to stick to conventions if possible!"
   ]
  },
  {
   "cell_type": "markdown",
   "metadata": {},
   "source": [
    "## Exercises\n",
    "\n",
    "https://swcarpentry.github.io/python-novice-gapminder/06-libraries/index.html\n"
   ]
  },
  {
   "cell_type": "code",
   "execution_count": null,
   "metadata": {},
   "outputs": [],
   "source": []
  },
  {
   "cell_type": "code",
   "execution_count": null,
   "metadata": {},
   "outputs": [],
   "source": []
  },
  {
   "cell_type": "code",
   "execution_count": null,
   "metadata": {},
   "outputs": [],
   "source": []
  },
  {
   "cell_type": "code",
   "execution_count": null,
   "metadata": {},
   "outputs": [],
   "source": []
  },
  {
   "cell_type": "code",
   "execution_count": null,
   "metadata": {},
   "outputs": [],
   "source": []
  },
  {
   "cell_type": "markdown",
   "metadata": {},
   "source": [
    "## Key Points\n",
    "\n",
    "* Most of the power of a programming language is in its libraries.\n",
    "\n",
    "\n",
    "* A program must import a library module in order to use it.\n",
    "\n",
    "\n",
    "* Use help to learn about the contents of a library module.\n",
    "\n",
    "\n",
    "* Import specific items from a library to shorten programs.\n",
    "\n",
    "\n",
    "* Create an alias for a library when importing it to shorten programs"
   ]
  },
  {
   "cell_type": "code",
   "execution_count": null,
   "metadata": {},
   "outputs": [],
   "source": []
  }
 ],
 "metadata": {
  "kernelspec": {
   "display_name": "Python 3",
   "language": "python",
   "name": "python3"
  },
  "language_info": {
   "codemirror_mode": {
    "name": "ipython",
    "version": 3
   },
   "file_extension": ".py",
   "mimetype": "text/x-python",
   "name": "python",
   "nbconvert_exporter": "python",
   "pygments_lexer": "ipython3",
   "version": "3.6.5"
  },
  "toc": {
   "base_numbering": 1,
   "nav_menu": {},
   "number_sections": false,
   "sideBar": false,
   "skip_h1_title": false,
   "title_cell": "Table of Contents",
   "title_sidebar": "Contents",
   "toc_cell": false,
   "toc_position": {},
   "toc_section_display": false,
   "toc_window_display": false
  }
 },
 "nbformat": 4,
 "nbformat_minor": 2
}
